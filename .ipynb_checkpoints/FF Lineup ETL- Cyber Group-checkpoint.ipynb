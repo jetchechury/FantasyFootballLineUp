{
 "cells": [
  {
   "cell_type": "code",
   "execution_count": 1,
   "metadata": {},
   "outputs": [],
   "source": [
    "import pandas as pd\n",
    "import time"
   ]
  },
  {
   "cell_type": "code",
   "execution_count": 2,
   "metadata": {},
   "outputs": [],
   "source": [
    "from selenium.webdriver.support.ui import Select\n",
    "from selenium.webdriver.common.action_chains import ActionChains\n",
    "from selenium import webdriver\n",
    "from time import sleep\n"
   ]
  },
  {
   "cell_type": "code",
   "execution_count": 3,
   "metadata": {},
   "outputs": [],
   "source": [
    "from bs4 import BeautifulSoup"
   ]
  },
  {
   "cell_type": "code",
   "execution_count": 4,
   "metadata": {},
   "outputs": [],
   "source": [
    "# Start Browser\n",
    "driver = webdriver.Chrome('/usr/local/bin/chromedriver')"
   ]
  },
  {
   "cell_type": "code",
   "execution_count": 5,
   "metadata": {},
   "outputs": [
    {
     "name": "stdout",
     "output_type": "stream",
     "text": [
      "qb\n",
      "rb\n",
      "wr\n",
      "te\n",
      "flex\n"
     ]
    }
   ],
   "source": [
    "start_time = time.time()\n",
    "\n",
    "team=[]\n",
    "salary=[]\n",
    "# ceil=[]\n",
    "# floor=[]\n",
    "point=[]\n",
    "pt_k=[]\n",
    "position=[]\n",
    "category=[]\n",
    "players=[]\n",
    "\n",
    "\n",
    "player_type=['qb','rb','wr','te','flex']\n",
    "\n",
    "page_count=0\n",
    "\n",
    "# Navigate through qb, rb, wr, te, and flex pages and gather data \n",
    "for item in player_type:\n",
    "    driver.get(f'https://rotogrinders.com/projected-stats/nfl-{item}?site=draftkings')\n",
    "    sleep(5)\n",
    "    print(item)\n",
    "    html=driver.page_source\n",
    "    soup = BeautifulSoup(html, 'html.parser')\n",
    "    \n",
    "    player_panel=soup.find('div',class_='rgt-bdy left')\n",
    "    player_divs=player_panel.find_all('div',class_='player')\n",
    "    \n",
    "    page_count += 1\n",
    "\n",
    "    players_temp=[]\n",
    "    \n",
    "    for item in player_divs:\n",
    "        player_name=item.find('a',class_='player-popup').text\n",
    "        players_temp.append(player_name)\n",
    "        players.append(player_name)\n",
    "\n",
    "    count=2\n",
    "    \n",
    "    for item in players_temp:\n",
    "        team_scrape=driver.find_element_by_xpath(f'//*[@id=\"proj-stats\"]/div[2]/div[1]/div[2]/div[1]/div[{count}]').text\n",
    "        position_scrape=driver.find_element_by_xpath(f'//*[@id=\"proj-stats\"]/div[2]/div[1]/div[2]/div[2]/div[{count}]').text\n",
    "        salaries=driver.find_element_by_xpath(f'//*[@id=\"proj-stats\"]/div[1]/div/div[2]/div[2]/div[{count}]').text\n",
    "\n",
    "#         ceil_scrape=driver.find_element_by_xpath(f'//*[@id=\"proj-stats\"]/div[3]/div/div[2]/div[1]/div[{count}]').text\n",
    "#         floor_scrape=driver.find_element_by_xpath(f'//*[@id=\"proj-stats\"]/div[3]/div/div[2]/div[2]/div[{count}]').text\n",
    "        point_scrape=driver.find_element_by_xpath(f'//*[@id=\"proj-stats\"]/div[3]/div/div[2]/div[3]/div[{count}]').text\n",
    "        pt_k_scrape=driver.find_element_by_xpath(f'//*[@id=\"proj-stats\"]/div[3]/div/div[2]/div[4]/div[{count}]').text\n",
    "\n",
    "        salaries1=salaries.strip('$')\n",
    "        salaries2=salaries1.strip('K')\n",
    "\n",
    "        \n",
    "        if page_count < 5:\n",
    "            category.append(position_scrape)\n",
    "\n",
    "        else:\n",
    "            category.append('FLEX')\n",
    "\n",
    "\n",
    "        position.append(position_scrape)\n",
    "        team.append(team_scrape)\n",
    "        salary.append(float(salaries2))\n",
    "#         ceil.append(float(ceil_scrape))\n",
    "#         floor.append(float(floor_scrape))\n",
    "        point.append(float(point_scrape))\n",
    "        pt_k.append(float(pt_k_scrape))\n",
    "\n",
    "        count+=1"
   ]
  },
  {
   "cell_type": "code",
   "execution_count": 6,
   "metadata": {},
   "outputs": [],
   "source": [
    "# Open Defense Page\n",
    "driver.get('https://rotogrinders.com/projected-stats/nfl-defense?site=draftkings')\n",
    "sleep(5)\n",
    "\n",
    "html=driver.page_source\n",
    "soup = BeautifulSoup(html, 'html.parser')\n",
    "\n",
    "player_panel=soup.find('div',class_='rgt-bdy left')\n",
    "player_divs=player_panel.find_all('div',class_='player')\n",
    "\n",
    "teams_temp=[]\n",
    "\n",
    "# Scrape team names\n",
    "for item in player_divs:\n",
    "    team_name_scrape=item.find('a',class_='player-popup').text\n",
    "    players.append(team_name_scrape)\n",
    "    teams_temp.append(team_name_scrape)\n"
   ]
  },
  {
   "cell_type": "code",
   "execution_count": 7,
   "metadata": {
    "scrolled": true
   },
   "outputs": [],
   "source": [
    "# Scrape Defense Data\n",
    "\n",
    "count = 2\n",
    "\n",
    "for item in teams_temp:\n",
    "    team_scrape=driver.find_element_by_xpath(f'//*[@id=\"proj-stats\"]/div[2]/div[1]/div[2]/div[1]/div[{count}]').text\n",
    "    position_scrape=driver.find_element_by_xpath(f'//*[@id=\"proj-stats\"]/div[2]/div[1]/div[2]/div[2]/div[{count}]').text\n",
    "    \n",
    "    salaries=driver.find_element_by_xpath(f'//*[@id=\"proj-stats\"]/div[1]/div/div[2]/div[2]/div[{count}]').text\n",
    "\n",
    "    point_scrape=driver.find_element_by_xpath(f'//*[@id=\"proj-stats\"]/div[3]/div/div[2]/div[1]/div[{count}]').text\n",
    "    \n",
    "    pt_k_scrape=driver.find_element_by_xpath(f'//*[@id=\"proj-stats\"]/div[3]/div/div[2]/div[2]/div[{count}]').text\n",
    "\n",
    "    salaries1=salaries.strip('$')\n",
    "    salaries2=salaries1.strip('K')\n",
    "    \n",
    "    position.append(position_scrape)\n",
    "    team.append(team_scrape)\n",
    "    salary.append(float(salaries2))\n",
    "    point.append(float(point_scrape))\n",
    "    pt_k.append(float(pt_k_scrape))\n",
    "    category.append(position_scrape)\n",
    "    \n",
    "    count += 1"
   ]
  },
  {
   "cell_type": "code",
   "execution_count": 9,
   "metadata": {
    "scrolled": true
   },
   "outputs": [],
   "source": [
    "stats_df=pd.DataFrame({'Name':players,\n",
    "                    'Position':position,\n",
    "                    'Category':category,\n",
    "                   'Team':team,\n",
    "                   'Salary($K)':salary,\n",
    "                    'Proj Points':point,\n",
    "#                    'Max Points':ceil,\n",
    "#                     'Min Points':floor,\n",
    "                    'Pt/$/K':pt_k\n",
    "                   })\n"
   ]
  },
  {
   "cell_type": "code",
   "execution_count": 10,
   "metadata": {},
   "outputs": [],
   "source": [
    "import pygsheets\n",
    "import config\n",
    "from datetime import datetime, date, time, timedelta\n"
   ]
  },
  {
   "cell_type": "code",
   "execution_count": 11,
   "metadata": {},
   "outputs": [],
   "source": [
    "# Connect to google sheets API\n",
    "gc = pygsheets.authorize(service_file=config.google_api_file_path)\n"
   ]
  },
  {
   "cell_type": "code",
   "execution_count": 12,
   "metadata": {},
   "outputs": [],
   "source": [
    "# Open FF Lineup Stats google sheet\n",
    "sh = gc.open_by_key(config.sheet_key)\n"
   ]
  },
  {
   "cell_type": "code",
   "execution_count": 13,
   "metadata": {},
   "outputs": [],
   "source": [
    "# Get date time info for worksheet name\n",
    "now = datetime.now()\n",
    "today=date.today()\n",
    "today_full_date=today.strftime('%Y-%m-%d')"
   ]
  },
  {
   "cell_type": "code",
   "execution_count": 14,
   "metadata": {},
   "outputs": [],
   "source": [
    "# Create new worksheet to store dataframe info\n",
    "wks=sh.add_worksheet(today_full_date,rows=1000,cols=6)"
   ]
  },
  {
   "cell_type": "code",
   "execution_count": 15,
   "metadata": {},
   "outputs": [],
   "source": [
    "# Load information from dataframe to google sheet\n",
    "wks.set_dataframe(stats_df,(1,1),index=False,copy_head=True)"
   ]
  },
  {
   "cell_type": "code",
   "execution_count": null,
   "metadata": {},
   "outputs": [],
   "source": []
  }
 ],
 "metadata": {
  "kernelspec": {
   "display_name": "Python 3",
   "language": "python",
   "name": "python3"
  },
  "language_info": {
   "codemirror_mode": {
    "name": "ipython",
    "version": 3
   },
   "file_extension": ".py",
   "mimetype": "text/x-python",
   "name": "python",
   "nbconvert_exporter": "python",
   "pygments_lexer": "ipython3",
   "version": "3.7.1"
  }
 },
 "nbformat": 4,
 "nbformat_minor": 2
}
